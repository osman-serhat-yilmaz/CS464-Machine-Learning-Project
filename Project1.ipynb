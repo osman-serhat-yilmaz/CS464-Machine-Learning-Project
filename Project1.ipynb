{
 "cells": [
  {
   "cell_type": "code",
   "execution_count": 1,
   "outputs": [],
   "source": [
    "import numpy as np\n",
    "import torch\n",
    "import torchvision\n",
    "import torch.nn as nn\n",
    "import torch.optim as optim\n",
    "from torch.utils.data import DataLoader\n",
    "from torchvision import transforms\n",
    "from sklearn.metrics import confusion_matrix\n",
    "import pandas as pd\n",
    "import torchmetrics\n",
    "import seaborn as sb\n",
    "import matplotlib.pyplot as plt\n",
    "\n",
    "# Set the device\n",
    "device = torch.device('cuda' if torch.cuda.is_available() else 'cpu')\n",
    "\n",
    "# Set the number of epochs\n",
    "num_epochs = 30\n",
    "\n",
    "# Set the image size\n",
    "image_size = 150\n",
    "\n",
    "# Set the number of classes\n",
    "num_of_classes = 24\n",
    "\n",
    "# Set batch_size\n",
    "batch_size = 64\n",
    "\n",
    "# Define the transformation to resize the images and convert them to tensors\n",
    "transformation = transforms.Compose([\n",
    "    transforms.Resize((image_size, image_size)),\n",
    "    transforms.ToTensor()\n",
    "])\n",
    "\n",
    "# Create the dataset using the ImageFolder class\n",
    "train_dataset = torchvision.datasets.ImageFolder(root=\"train/images\", transform=transformation)\n",
    "\n",
    "# Define the data loader\n",
    "train_data_loader = DataLoader(train_dataset, batch_size=batch_size, shuffle=True)"
   ],
   "metadata": {
    "collapsed": false
   }
  },
  {
   "cell_type": "code",
   "execution_count": 2,
   "outputs": [],
   "source": [
    "# Define the CNN model\n",
    "\n",
    "class CNN(nn.Module):\n",
    "    def __init__(self, im_size, num_classes):\n",
    "        super(CNN, self).__init__()\n",
    "        self.im_size = im_size\n",
    "        self.num_classes = num_classes\n",
    "\n",
    "        # define the layers of the CNN\n",
    "        self.conv1 = nn.Conv2d(3, 16, kernel_size=3, stride=1, padding=1)\n",
    "        self.conv2 = nn.Conv2d(16, 32, kernel_size=3, stride=1, padding=1)\n",
    "        self.conv3 = nn.Conv2d(32, 64, kernel_size=3, stride=1, padding=1)\n",
    "\n",
    "        self.pool = nn.MaxPool2d(2, 2)\n",
    "\n",
    "        self.fc1 = nn.Linear(64 * im_size * im_size // 4, 512)\n",
    "        self.fc2 = nn.Linear(512, num_classes)\n",
    "\n",
    "        self.dropout = nn.Dropout(0.25)\n",
    "\n",
    "    def forward(self, x):\n",
    "        # apply the layers in the CNN\n",
    "        x = self.conv1(x)\n",
    "        x = torch.relu(x)\n",
    "\n",
    "        x = self.conv2(x)\n",
    "        x = torch.relu(x)\n",
    "\n",
    "        x = self.conv3(x)\n",
    "        x = torch.relu(x)\n",
    "\n",
    "        x = self.pool(x)\n",
    "\n",
    "        x = x.view(-1, 64 * self.im_size * self.im_size // 4)\n",
    "\n",
    "        x = self.fc1(x)\n",
    "        x = torch.relu(x)\n",
    "        x = self.dropout(x)\n",
    "\n",
    "        x = self.fc2(x)\n",
    "\n",
    "        return x\n",
    "\n",
    "\n",
    "# Create the model and move it to the designated device\n",
    "model = CNN(im_size=image_size, num_classes=num_of_classes).to(device)\n",
    "\n",
    "# Define the loss function and the optimizer\n",
    "criterion = nn.CrossEntropyLoss()\n",
    "optimizer = optim.Adam(model.parameters())"
   ],
   "metadata": {
    "collapsed": false
   }
  },
  {
   "cell_type": "code",
   "execution_count": null,
   "outputs": [],
   "source": [
    "total = 1368\n",
    "batch_no = int((total / batch_size) + 1)\n",
    "loss_array = []\n",
    "accuracy_array = []\n",
    "\n",
    "# Train the model\n",
    "for epoch in range(num_epochs):\n",
    "    correct = 0\n",
    "    running_loss = 0.0\n",
    "    for i, (inputs, labels) in enumerate(train_data_loader):\n",
    "        inputs = inputs.to(device)\n",
    "        labels = labels.to(device)\n",
    "\n",
    "        optimizer.zero_grad()\n",
    "        outputs = model(inputs)\n",
    "\n",
    "        loss = criterion(outputs, labels)\n",
    "        loss.backward()\n",
    "        optimizer.step()\n",
    "\n",
    "        running_loss += loss.item()\n",
    "\n",
    "        #number of correct predictions in an epoch\n",
    "        _, predicted = torch.max(outputs.data, 1)\n",
    "        correct += (predicted == labels).sum().item()\n",
    "\n",
    "        if (i+1) % batch_no == 0:\n",
    "            print('Epoch [{}/{}], Loss: {:.4f}'.format(epoch+1, num_epochs, running_loss/batch_no))\n",
    "            loss_array.append(running_loss/100)\n",
    "        running_loss = 0.0\n",
    "\n",
    "    accuracy = 100 * correct / total\n",
    "    print('Accuracy for Epoch[{}/{}]: {} %\\n'.format(epoch+1, num_epochs, accuracy))\n",
    "    accuracy_array.append(accuracy)\n",
    "\n",
    "\n",
    "PATH = './trained_model.pth'\n",
    "torch.save(model.state_dict(), PATH)\n",
    "\n",
    "# Report the loss and performance of the model\n",
    "print('Finished Training')"
   ],
   "metadata": {
    "collapsed": false,
    "pycharm": {
     "is_executing": true
    }
   }
  },
  {
   "cell_type": "code",
   "execution_count": null,
   "outputs": [],
   "source": [
    "plot = sb.lineplot(data=accuracy_array)\n",
    "plot.set(xlabel='Epoch', ylabel='Accuracy', title=\"Accuracy vs Epoch for Training with 30x30 Images\")"
   ],
   "metadata": {
    "collapsed": false,
    "pycharm": {
     "is_executing": true
    }
   }
  },
  {
   "cell_type": "code",
   "execution_count": null,
   "outputs": [],
   "source": [
    "plot = sb.lineplot(data=loss_array)\n",
    "plot.set(xlabel='Epoch', ylabel='Loss', title=\"Loss vs Epoch for Training with 30x30 Images\")"
   ],
   "metadata": {
    "collapsed": false,
    "pycharm": {
     "is_executing": true
    }
   }
  },
  {
   "cell_type": "code",
   "execution_count": null,
   "outputs": [],
   "source": [
    "test_dataset = torchvision.datasets.ImageFolder(root=\"test/images\", transform=transformation)\n",
    "test_data_loader = DataLoader(test_dataset, batch_size=len(test_dataset), shuffle=False)\n",
    "\n",
    "correct = 0\n",
    "total = len(test_dataset)\n",
    "with torch.no_grad():\n",
    "    for data in test_data_loader:\n",
    "        images, labels = data\n",
    "        # calculate outputs by running images through the network\n",
    "        outputs = model(images)\n",
    "        # the class with the highest energy is what we choose as prediction\n",
    "        _, predicted = torch.max(outputs.data, 1)\n",
    "        total += labels.size(0)\n",
    "        correct += (predicted == labels).sum().item()\n",
    "\n",
    "accuracy = 100 * correct / total\n",
    "print('\\nAccuracy for 64 test images dataset when image size is ({}x{}): {} %'.format(image_size,image_size, accuracy))\n",
    "\n",
    "sb.heatmap(confusion_matrix(labels, predicted), annot=True, cbar=None,cmap=\"YlGnBu\",fmt=\"d\")\n"
   ],
   "metadata": {
    "collapsed": false,
    "pycharm": {
     "is_executing": true
    }
   }
  },
  {
   "cell_type": "code",
   "execution_count": null,
   "outputs": [],
   "source": [
    "val_dataset = torchvision.datasets.ImageFolder(root=\"valid/images\", transform=transformation)\n",
    "val_data_loader = DataLoader(val_dataset, batch_size=132, shuffle=False)\n",
    "\n",
    "correct = 0\n",
    "total = 132\n",
    "with torch.no_grad():\n",
    "    for data in val_data_loader:\n",
    "        val_images, val_labels = data\n",
    "        # calculate outputs by running images through the network\n",
    "        val_outputs = model(val_images)\n",
    "        # the class with the highest energy is what we choose as prediction\n",
    "        _, val_predicted = torch.max(val_outputs.data, 1)\n",
    "        correct += (val_predicted == val_labels).sum().item()\n",
    "\n",
    "accuracy = 100 * correct / total\n",
    "print('\\nAccuracy on the 132 validation images dataset when image size is ({}x{}): {} %\\n'.format(image_size,image_size, accuracy))\n",
    "\n",
    "sb.heatmap(confusion_matrix(val_labels, val_predicted), annot=True, cbar=None,cmap=\"YlGnBu\",fmt=\"d\")"
   ],
   "metadata": {
    "collapsed": false,
    "pycharm": {
     "is_executing": true
    }
   }
  }
 ],
 "metadata": {
  "kernelspec": {
   "display_name": "Python 3 (ipykernel)",
   "language": "python",
   "name": "python3"
  },
  "language_info": {
   "codemirror_mode": {
    "name": "ipython",
    "version": 3
   },
   "file_extension": ".py",
   "mimetype": "text/x-python",
   "name": "python",
   "nbconvert_exporter": "python",
   "pygments_lexer": "ipython3",
   "version": "3.9.13"
  }
 },
 "nbformat": 4,
 "nbformat_minor": 5
}
